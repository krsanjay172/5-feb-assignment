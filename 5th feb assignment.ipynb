{
 "cells": [
  {
   "cell_type": "code",
   "execution_count": 1,
   "id": "3ea470f1-20e7-44da-a2fe-342092c57ff4",
   "metadata": {},
   "outputs": [],
   "source": [
    "# que-1"
   ]
  },
  {
   "cell_type": "code",
   "execution_count": 2,
   "id": "484d3c8c-48d4-474e-bf79-3fbdc5a490a3",
   "metadata": {},
   "outputs": [
    {
     "data": {
      "text/plain": [
       "'Class and object are fundamental concepts in object-oriented programming (OOP).\\n\\nA class is a blueprint for creating objects. It defines a set of attributes and behaviors that an object of that class will have. \\nA class serves as a template for creating objects and encapsulates data and methods that operate on that data.\\n\\nAn object is an instance of a class. It represents a specific entity that has its own state (attributes or properties) and behavior (methods or functions). \\nEach object is unique and has its own identity, but it shares the attributes and behaviors defined by its class.\\n\\nFor example, consider a class \"Person\". The class can have attributes such as name, age, gender, etc., and behaviors such as walking, talking, eating, etc.\\nAn object of the class \"Person\" could be a specific person, such as ravi, who is 20 years old and male. \\nravi would have his own set of values for the attributes defined in the \"Person\" class.\\n\\nSo in OOP, you define classes to represent real-world objects and create objects from those classes to model specific entities in your program.'"
      ]
     },
     "execution_count": 2,
     "metadata": {},
     "output_type": "execute_result"
    }
   ],
   "source": [
    "'''Class and object are fundamental concepts in object-oriented programming (OOP).\n",
    "\n",
    "A class is a blueprint for creating objects. It defines a set of attributes and behaviors that an object of that class will have. \n",
    "A class serves as a template for creating objects and encapsulates data and methods that operate on that data.\n",
    "\n",
    "An object is an instance of a class. It represents a specific entity that has its own state (attributes or properties) and behavior (methods or functions). \n",
    "Each object is unique and has its own identity, but it shares the attributes and behaviors defined by its class.\n",
    "\n",
    "For example, consider a class \"Person\". The class can have attributes such as name, age, gender, etc., and behaviors such as walking, talking, eating, etc.\n",
    "An object of the class \"Person\" could be a specific person, such as ravi, who is 20 years old and male. \n",
    "ravi would have his own set of values for the attributes defined in the \"Person\" class.\n",
    "\n",
    "So in OOP, you define classes to represent real-world objects and create objects from those classes to model specific entities in your program.'''"
   ]
  },
  {
   "cell_type": "code",
   "execution_count": 3,
   "id": "382c4f0c-1e09-4e2b-b6c1-36b5063c3aea",
   "metadata": {},
   "outputs": [],
   "source": [
    "# que-2"
   ]
  },
  {
   "cell_type": "code",
   "execution_count": 4,
   "id": "4eca7f24-a87c-4be7-a7fb-0fd1ca436dd4",
   "metadata": {},
   "outputs": [],
   "source": [
    "#The four pillars of object-oriented programming (OOP) are:\n",
    "#1-Abstraction: Abstraction is the process of hiding complex implementations and exposing only the essential features of an object to the outside world. \n",
    "#This means that an object's internal workings are hidden from the user, who interacts with the object only through a well-defined interface.\n",
    "\n",
    "#2-Encapsulation: Encapsulation is the mechanism of wrapping data and methods that operate on that data within a single unit or object. \n",
    "#This helps to reduce complexity and increase modularity by hiding implementation details and providing a secure mechanism for protecting data from outside manipulation.\n",
    "\n",
    "#3-Inheritance: Inheritance is the mechanism that allows one class to inherit the attributes and behaviors of another class. \n",
    "#This enables code reusability and provides a way to create new classes that are built on existing ones, reducing duplication and making it easier to maintain and extend code.\n",
    "\n",
    "#4-Polymorphism: Polymorphism is the ability of objects of different classes to be treated as objects of a common class. \n",
    "#This allows objects of different classes to be used interchangeably in a program, making it more flexible and easy to maintain.\n",
    "\n",
    "#These four pillars form the foundation of OOP and provide a way to structure and organize code, making it easier to create complex software systems and maintain them over time.\n",
    "#Regenerate response"
   ]
  },
  {
   "cell_type": "code",
   "execution_count": 5,
   "id": "f5553816-1934-4961-8e7c-ede5213a838c",
   "metadata": {},
   "outputs": [],
   "source": [
    "# que-3"
   ]
  },
  {
   "cell_type": "code",
   "execution_count": 6,
   "id": "9c3b06e8-cbe1-4950-828f-2d7e54d0c9e0",
   "metadata": {},
   "outputs": [],
   "source": [
    "#The __init__() function is a special method in Python and is known as the constructor method. \n",
    "#It is called automatically when an object of a class is created. The purpose of the __init__() function is to initialize the attributes of the class and to set the default values for them.\n",
    "#Here's an example to illustrate the use of the __init__() function:"
   ]
  },
  {
   "cell_type": "code",
   "execution_count": 7,
   "id": "3b0b2c8a-c6f3-4f79-adf5-3f468143a15b",
   "metadata": {},
   "outputs": [
    {
     "name": "stdout",
     "output_type": "stream",
     "text": [
      "komal\n",
      "23\n"
     ]
    }
   ],
   "source": [
    "class Person:\n",
    "    def __init__(self, name, age):\n",
    "        self.name = name\n",
    "        self.age = age\n",
    "\n",
    "person = Person(\"komal\", 23)\n",
    "print(person.name) # Output: komal\n",
    "print(person.age) # Output: 23\n"
   ]
  },
  {
   "cell_type": "code",
   "execution_count": 8,
   "id": "269a00f9-c207-4b9c-a45a-3fdddeed86ea",
   "metadata": {},
   "outputs": [],
   "source": [
    "# que-4"
   ]
  },
  {
   "cell_type": "code",
   "execution_count": 9,
   "id": "750e87c1-2f66-4735-a4f9-795c8ff6f9e2",
   "metadata": {},
   "outputs": [
    {
     "ename": "SyntaxError",
     "evalue": "incomplete input (1262649199.py, line 1)",
     "output_type": "error",
     "traceback": [
      "\u001b[0;36m  Cell \u001b[0;32mIn[9], line 1\u001b[0;36m\u001b[0m\n\u001b[0;31m    \"\"\"In object-oriented programming (OOP), the self keyword is used to refer to the instance of the class that is calling a method.\u001b[0m\n\u001b[0m    ^\u001b[0m\n\u001b[0;31mSyntaxError\u001b[0m\u001b[0;31m:\u001b[0m incomplete input\n"
     ]
    }
   ],
   "source": [
    "\"\"\"In object-oriented programming (OOP), the self keyword is used to refer to the instance of the class that is calling a method. \n",
    "It is the first parameter of any method defined in a class and is automatically passed when the method is called.\n",
    "The purpose of using self is to make the instance data of a class accessible within the class methods. When a method is called, \n",
    "it operates on the instance data of the specific object that called the method. For example:\n",
    "\n"
   ]
  },
  {
   "cell_type": "code",
   "execution_count": 10,
   "id": "7f3def03-d3cc-4b5e-a08b-e014e0be96ed",
   "metadata": {},
   "outputs": [
    {
     "name": "stdout",
     "output_type": "stream",
     "text": [
      "pooja\n"
     ]
    }
   ],
   "source": [
    "class Person:\n",
    "    def __init__(self, name, age):\n",
    "        self.name = name\n",
    "        self.age = age\n",
    "        \n",
    "    def get_name(self):\n",
    "        return self.name\n",
    "\n",
    "person = Person(\"pooja\", 25)\n",
    "print(person.get_name()) # Output: pooja\n"
   ]
  },
  {
   "cell_type": "code",
   "execution_count": 11,
   "id": "13f8970c-dccd-43de-950b-030d92dba92f",
   "metadata": {},
   "outputs": [],
   "source": [
    "# que-5"
   ]
  },
  {
   "cell_type": "code",
   "execution_count": 13,
   "id": "45922517-75ec-45aa-96ca-3d0712585171",
   "metadata": {},
   "outputs": [
    {
     "data": {
      "text/plain": [
       "'Inheritance is a mechanism in object-oriented programming (OOP) that allows one class to inherit the attributes and behaviors of another class. \\nThis enables code reusability and provides a way to create new classes that are built on existing ones, \\nreducing duplication and making it easier to maintain and extend code.\\nThere are several types of inheritance in OOP, including:\\nSingle inheritance: Single inheritance occurs when a derived class inherits attributes and behaviors from a single base class. For example:'"
      ]
     },
     "execution_count": 13,
     "metadata": {},
     "output_type": "execute_result"
    }
   ],
   "source": [
    "'''Inheritance is a mechanism in object-oriented programming (OOP) that allows one class to inherit the attributes and behaviors of another class. \n",
    "This enables code reusability and provides a way to create new classes that are built on existing ones, \n",
    "reducing duplication and making it easier to maintain and extend code.\n",
    "There are several types of inheritance in OOP, including:\n",
    "\n",
    "1-Single inheritance: Single inheritance occurs when a derived class inherits attributes and behaviors from a single base class. For example:'''"
   ]
  },
  {
   "cell_type": "code",
   "execution_count": 14,
   "id": "fcaad715-49e6-442f-96a9-aee9b5da2d87",
   "metadata": {},
   "outputs": [
    {
     "name": "stdout",
     "output_type": "stream",
     "text": [
      "Bark\n"
     ]
    }
   ],
   "source": [
    "class Animal:\n",
    "    def __init__(self, name, species):\n",
    "        self.name = name\n",
    "        self.species = species\n",
    "        \n",
    "    def make_sound(self):\n",
    "        print(\"Sound from Animal class\")\n",
    "\n",
    "class Dog(Animal):\n",
    "    def make_sound(self):\n",
    "        print(\"Bark\")\n",
    "\n",
    "dog = Dog(\"Fido\", \"Canine\")\n",
    "dog.make_sound() # Output: Bark\n"
   ]
  },
  {
   "cell_type": "code",
   "execution_count": 15,
   "id": "7cee6169-5ef1-458d-8938-fa09cd423f21",
   "metadata": {},
   "outputs": [
    {
     "data": {
      "text/plain": [
       "'Multi-level inheritance: Multi-level inheritance occurs when a derived class inherits from a base class, \\nwhich in turn inherits from another base class. For example:'"
      ]
     },
     "execution_count": 15,
     "metadata": {},
     "output_type": "execute_result"
    }
   ],
   "source": [
    "'''Multi-level inheritance: Multi-level inheritance occurs when a derived class inherits from a base class, \n",
    "which in turn inherits from another base class. For example:'''"
   ]
  },
  {
   "cell_type": "code",
   "execution_count": null,
   "id": "c88650e0-f704-4335-ab00-487897eab285",
   "metadata": {},
   "outputs": [],
   "source": []
  }
 ],
 "metadata": {
  "kernelspec": {
   "display_name": "Python 3 (ipykernel)",
   "language": "python",
   "name": "python3"
  },
  "language_info": {
   "codemirror_mode": {
    "name": "ipython",
    "version": 3
   },
   "file_extension": ".py",
   "mimetype": "text/x-python",
   "name": "python",
   "nbconvert_exporter": "python",
   "pygments_lexer": "ipython3",
   "version": "3.10.8"
  }
 },
 "nbformat": 4,
 "nbformat_minor": 5
}
